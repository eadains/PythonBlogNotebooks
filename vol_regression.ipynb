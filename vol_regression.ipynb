{
 "cells": [
  {
   "cell_type": "code",
   "execution_count": 65,
   "id": "3e64e551-7679-4d52-81aa-e977d86df5c2",
   "metadata": {
    "tags": []
   },
   "outputs": [],
   "source": [
    "import polars as pl\n",
    "import matplotlib.pyplot as plt\n",
    "import urllib.request\n",
    "import datetime"
   ]
  },
  {
   "cell_type": "code",
   "execution_count": 67,
   "id": "31499143-7661-475a-8a9f-bbb9adbeab55",
   "metadata": {
    "tags": []
   },
   "outputs": [],
   "source": [
    "start_date = int(datetime.datetime(1990, 1, 1).timestamp())\n",
    "today = datetime.date.today()\n",
    "end_date = int(\n",
    "    datetime.datetime(today.year, today.month, today.day - 1, 23, 59, 59).timestamp()\n",
    ")\n",
    "\n",
    "vix_url = f\"https://query1.finance.yahoo.com/v7/finance/download/%5EVIX?period1={start_date}&period2={end_date}&interval=1d&events=history&includeAdjustedClose=true\"\n",
    "spx_url = f\"https://query1.finance.yahoo.com/v7/finance/download/%5ESPX?period1={start_date}&period2={end_date}&interval=1d&events=history&includeAdjustedClose=true\""
   ]
  },
  {
   "cell_type": "code",
   "execution_count": 68,
   "id": "c87bacb2-43ed-49be-81b1-75bd0f5043fb",
   "metadata": {
    "tags": []
   },
   "outputs": [],
   "source": [
    "with urllib.request.urlopen(spx_url) as response:\n",
    "    spx_html = response.read()\n",
    "    spx_data = pl.read_csv(\n",
    "        spx_html,\n",
    "        dtypes=[\n",
    "            pl.Date,\n",
    "            pl.Float64,\n",
    "            pl.Float64,\n",
    "            pl.Float64,\n",
    "            pl.Float64,\n",
    "            pl.Float64,\n",
    "            pl.Int64,\n",
    "        ],\n",
    "        ignore_errors=True,\n",
    "    )\n",
    "\n",
    "with urllib.request.urlopen(vix_url) as response:\n",
    "    vix_html = response.read()\n",
    "    vix_data = pl.read_csv(\n",
    "        vix_html,\n",
    "        dtypes=[\n",
    "            pl.Date,\n",
    "            pl.Float64,\n",
    "            pl.Float64,\n",
    "            pl.Float64,\n",
    "            pl.Float64,\n",
    "            pl.Float64,\n",
    "            pl.Int64,\n",
    "        ],\n",
    "        ignore_errors=True,\n",
    "    )"
   ]
  },
  {
   "cell_type": "code",
   "execution_count": 91,
   "id": "7926a070-06aa-4f93-a3d8-112d7d99278d",
   "metadata": {
    "tags": []
   },
   "outputs": [],
   "source": [
    "def yang_zhang_vol(ohlc: pl.Expr, N: int) -> pl.Expr:\n",
    "    h_c = pl.col(\"High\").log() - pl.col(\"Close\").log()\n",
    "    h_o = pl.col(\"High\").log() - pl.col(\"Open\").log()\n",
    "    l_c = pl.col(\"Low\").log() - pl.col(\"Close\").log()\n",
    "    l_o = pl.col(\"Low\").log() - pl.col(\"Open\").log()\n",
    "    return ((1 / N) * (h_c * h_o + l_c * l_o).rolling_sum(N)).sqrt()"
   ]
  },
  {
   "cell_type": "code",
   "execution_count": 116,
   "id": "0874d5f4-4fa4-421d-89e8-1e72e30fd24c",
   "metadata": {
    "tags": []
   },
   "outputs": [],
   "source": [
    "spx = spx_data.select(\n",
    "    [\n",
    "        pl.col(\"Date\"),\n",
    "        pl.col(\"Close\").alias(\"spx\"),\n",
    "        # Shift this 1 period forward so the value on a day doesn't use that day's information\n",
    "        # in the calculation\n",
    "        yang_zhang_vol(pl.col([\"Open\", \"High\", \"Low\", \"Close\"]), 21)\n",
    "        .alias(\"spx_real_vol\")\n",
    "        .shift(1)\n",
    "        * np.sqrt(252)\n",
    "        * 100,\n",
    "    ]\n",
    ")\n",
    "\n",
    "vix = vix_data.select(\n",
    "    [\n",
    "        pl.col(\"Date\"),\n",
    "        pl.col(\"Close\").alias(\"vix\"),\n",
    "    ]\n",
    ")\n",
    "data = spx.join(vix, on=\"Date\", how=\"inner\")\n",
    "\n",
    "# Daily log return\n",
    "data = data.with_columns(\n",
    "    [\n",
    "        pl.col(\"spx\").log().diff().alias(\"spx_ret\"),\n",
    "        pl.col(\"vix\").log().diff().alias(\"vix_ret\"),\n",
    "    ]\n",
    ")\n",
    "# Return over the NEXT 21 days\n",
    "data = data.with_columns(\n",
    "    [\n",
    "        pl.col(\"spx_ret\").rolling_sum(21).shift(-21).alias(\"spx_for_ret\"),\n",
    "        pl.col(\"vix_ret\").rolling_sum(21).shift(-21).alias(\"vix_for_ret\"),\n",
    "    ]\n",
    ")\n",
    "# VIX return in standard deviation terms\n",
    "data = data.with_columns(\n",
    "    [\n",
    "        (pl.col(\"vix_ret\") / pl.col(\"vix_ret\").rolling_std(21).shift(1)).alias(\n",
    "            \"vix_ret_std\"\n",
    "        ),\n",
    "        (pl.col(\"vix\") - pl.col(\"spx_real_vol\")).alias(\"iv_rv\"),\n",
    "    ]\n",
    ")\n",
    "\n",
    "data = data.with_columns((pl.col(\"iv_rv\") - pl.col(\"iv_rv\").rolling_mean(42)).alias(\"iv_rv_avg\"))\n",
    "\n",
    "data = data.drop_nulls()"
   ]
  },
  {
   "cell_type": "code",
   "execution_count": 105,
   "id": "f4f2ddde-3843-4e11-ad24-50cb5c6de9b3",
   "metadata": {
    "tags": []
   },
   "outputs": [],
   "source": [
    "x = data.select(pl.col([\"vix_ret_std\", \"iv_rv\", \"iv_rv_avg\"]))\n",
    "y = data[\"vix_for_ret\"]"
   ]
  },
  {
   "cell_type": "code",
   "execution_count": 120,
   "id": "553949bc-bc31-4c80-be00-cfe62641e527",
   "metadata": {
    "tags": []
   },
   "outputs": [
    {
     "data": {
      "text/html": [
       "<div><style>\n",
       ".dataframe > thead > tr > th,\n",
       ".dataframe > tbody > tr > td {\n",
       "  text-align: right;\n",
       "}\n",
       "</style>\n",
       "<small>shape: (8_324, 3)</small><table border=\"1\" class=\"dataframe\"><thead><tr><th>vix_ret_std</th><th>iv_rv</th><th>iv_rv_avg</th></tr><tr><td>f64</td><td>f64</td><td>f64</td></tr></thead><tbody><tr><td>1.100416</td><td>10.870309</td><td>2.382847</td></tr><tr><td>2.336899</td><td>14.001319</td><td>5.383701</td></tr><tr><td>-1.573858</td><td>11.109525</td><td>2.426414</td></tr><tr><td>1.006532</td><td>12.82327</td><td>4.021164</td></tr><tr><td>-0.507814</td><td>11.842325</td><td>2.956413</td></tr><tr><td>0.349375</td><td>12.337812</td><td>3.361636</td></tr><tr><td>0.335096</td><td>12.755534</td><td>3.66977</td></tr><tr><td>-0.379408</td><td>12.303149</td><td>3.089353</td></tr><tr><td>-2.747799</td><td>8.54715</td><td>-0.702761</td></tr><tr><td>1.297306</td><td>10.653704</td><td>1.335399</td></tr><tr><td>0.53449</td><td>11.723912</td><td>2.299593</td></tr><tr><td>-0.205315</td><td>11.029761</td><td>1.470327</td></tr><tr><td>&hellip;</td><td>&hellip;</td><td>&hellip;</td></tr><tr><td>-0.551077</td><td>3.332186</td><td>-3.684747</td></tr><tr><td>-0.066027</td><td>3.347534</td><td>-3.611521</td></tr><tr><td>-0.213641</td><td>3.060271</td><td>-3.842247</td></tr><tr><td>-0.102201</td><td>3.152345</td><td>-3.729328</td></tr><tr><td>0.308122</td><td>3.630461</td><td>-3.243606</td></tr><tr><td>0.053898</td><td>3.716536</td><td>-3.147426</td></tr><tr><td>-0.470637</td><td>3.060846</td><td>-3.753676</td></tr><tr><td>0.394548</td><td>3.647653</td><td>-3.151427</td></tr><tr><td>0.101345</td><td>4.366359</td><td>-2.409919</td></tr><tr><td>-0.008252</td><td>4.993988</td><td>-1.735459</td></tr><tr><td>-1.14906</td><td>4.911953</td><td>-1.780458</td></tr><tr><td>-0.718696</td><td>4.649035</td><td>-2.005548</td></tr></tbody></table></div>"
      ],
      "text/plain": [
       "shape: (8_324, 3)\n",
       "┌─────────────┬───────────┬───────────┐\n",
       "│ vix_ret_std ┆ iv_rv     ┆ iv_rv_avg │\n",
       "│ ---         ┆ ---       ┆ ---       │\n",
       "│ f64         ┆ f64       ┆ f64       │\n",
       "╞═════════════╪═══════════╪═══════════╡\n",
       "│ 1.100416    ┆ 10.870309 ┆ 2.382847  │\n",
       "│ 2.336899    ┆ 14.001319 ┆ 5.383701  │\n",
       "│ -1.573858   ┆ 11.109525 ┆ 2.426414  │\n",
       "│ 1.006532    ┆ 12.82327  ┆ 4.021164  │\n",
       "│ …           ┆ …         ┆ …         │\n",
       "│ 0.101345    ┆ 4.366359  ┆ -2.409919 │\n",
       "│ -0.008252   ┆ 4.993988  ┆ -1.735459 │\n",
       "│ -1.14906    ┆ 4.911953  ┆ -1.780458 │\n",
       "│ -0.718696   ┆ 4.649035  ┆ -2.005548 │\n",
       "└─────────────┴───────────┴───────────┘"
      ]
     },
     "execution_count": 120,
     "metadata": {},
     "output_type": "execute_result"
    }
   ],
   "source": [
    "x"
   ]
  },
  {
   "cell_type": "code",
   "execution_count": null,
   "id": "27906be4-09a2-4ac7-9f55-19d6001be33f",
   "metadata": {},
   "outputs": [],
   "source": []
  }
 ],
 "metadata": {
  "kernelspec": {
   "display_name": "Python 3 (ipykernel)",
   "language": "python",
   "name": "python3"
  },
  "language_info": {
   "codemirror_mode": {
    "name": "ipython",
    "version": 3
   },
   "file_extension": ".py",
   "mimetype": "text/x-python",
   "name": "python",
   "nbconvert_exporter": "python",
   "pygments_lexer": "ipython3",
   "version": "3.11.3"
  }
 },
 "nbformat": 4,
 "nbformat_minor": 5
}
