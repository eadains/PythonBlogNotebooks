{
 "cells": [
  {
   "cell_type": "code",
   "execution_count": 2,
   "id": "5e5fdfcc-cca1-49dd-9307-e72f87feb1ef",
   "metadata": {
    "tags": []
   },
   "outputs": [],
   "source": [
    "import numpy as np"
   ]
  },
  {
   "cell_type": "code",
   "execution_count": 3,
   "id": "1b5d6367-d472-4cc9-a06f-a1735148329d",
   "metadata": {
    "tags": []
   },
   "outputs": [],
   "source": [
    "class ExponentialSmoothing:\n",
    "    def __init__(self, data: np.ndarray, x_0: float = 1, alpha: float = 0.5) -> None:\n",
    "        self.x_t = data\n",
    "        self.x_0 = x_0\n",
    "        self.alpha = alpha\n",
    "\n",
    "    def smooth(self) -> np.ndarray:\n",
    "        smoothed = [self.x_0]\n",
    "        for t in range(1, len(self.x_t)):\n",
    "            smoothed.append(\n",
    "                self.alpha * self.x_t[t - 1] + (1 - self.alpha) * smoothed[t - 1]\n",
    "            )\n",
    "        return np.array(smoothed)\n",
    "\n",
    "    def fit(self) -> None:\n",
    "        def loss(x):\n",
    "            self.x_0 = x[0]\n",
    "            self.alpha = x[1]\n",
    "            return np.sum((self.x_t - self.smooth()) ** 2)\n",
    "        \n",
    "        results = opt.minimize(loss, [1, 0.5])\n",
    "        \n",
    "    def forecast(self, steps: int = 1) -> np.ndarray:\n",
    "        return np.array(\n",
    "            [self.alpha * self.x_t[-1] + (1 - self.alpha) * self.smooth()[-1]] * steps\n",
    "        )"
   ]
  },
  {
   "cell_type": "code",
   "execution_count": null,
   "id": "ae979bdf-c77a-49a4-b57f-07cc96d40057",
   "metadata": {},
   "outputs": [],
   "source": []
  }
 ],
 "metadata": {
  "kernelspec": {
   "display_name": "Python 3 (ipykernel)",
   "language": "python",
   "name": "python3"
  },
  "language_info": {
   "codemirror_mode": {
    "name": "ipython",
    "version": 3
   },
   "file_extension": ".py",
   "mimetype": "text/x-python",
   "name": "python",
   "nbconvert_exporter": "python",
   "pygments_lexer": "ipython3",
   "version": "3.11.3"
  }
 },
 "nbformat": 4,
 "nbformat_minor": 5
}
