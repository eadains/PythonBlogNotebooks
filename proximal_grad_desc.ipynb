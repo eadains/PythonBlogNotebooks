{
 "cells": [
  {
   "cell_type": "code",
   "execution_count": 1,
   "metadata": {},
   "outputs": [],
   "source": [
    "import numpy as np\n",
    "\n",
    "rng = np.random.default_rng()"
   ]
  },
  {
   "cell_type": "code",
   "execution_count": 9,
   "metadata": {},
   "outputs": [],
   "source": [
    "def sample_sparse_linear(n_samples=100, n_features=20, n_nonzero=5, noise_std=0.1):\n",
    "    \"\"\"\n",
    "    Generate data from a sparse linear model with Gaussian noise.\n",
    "\n",
    "    Parameters\n",
    "    ----------\n",
    "    n_samples : int\n",
    "        Number of samples\n",
    "    n_features : int\n",
    "        Number of features\n",
    "    n_nonzero : int\n",
    "        Number of nonzero coefficients\n",
    "    noise_std : float\n",
    "        Standard deviation of Gaussian noise\n",
    "    random_state : int\n",
    "        Random seed\n",
    "\n",
    "    Returns\n",
    "    -------\n",
    "    X : array, shape (n_samples, n_features)\n",
    "        Feature matrix\n",
    "    y : array, shape (n_samples,)\n",
    "        Target vector\n",
    "    beta : array, shape (n_features,)\n",
    "        True coefficients\n",
    "    \"\"\"\n",
    "    # Generate random feature matrix\n",
    "    X = rng.standard_normal((n_samples, n_features))\n",
    "\n",
    "    # Generate sparse coefficients\n",
    "    beta = np.zeros(n_features)\n",
    "    nonzero_idx = rng.choice(n_features, size=n_nonzero, replace=False)\n",
    "    beta[nonzero_idx] = rng.standard_normal(n_nonzero)\n",
    "\n",
    "    # Generate target with noise\n",
    "    y = X @ beta + noise_std * rng.standard_normal(n_samples)\n",
    "\n",
    "    return X, y, beta"
   ]
  },
  {
   "cell_type": "code",
   "execution_count": 29,
   "metadata": {},
   "outputs": [],
   "source": [
    "X, y, beta_true = sample_sparse_linear()\n",
    "# Adding interecept column to X\n",
    "X = np.hstack([np.ones((X.shape[0], 1)), X])"
   ]
  },
  {
   "cell_type": "code",
   "execution_count": 35,
   "metadata": {},
   "outputs": [],
   "source": [
    "def loss_func(y, y_hat):\n",
    "    return np.sum(np.square(y - y_hat))\n",
    "\n",
    "\n",
    "def loss_func_deriv(X, beta, y):\n",
    "    return -2 * X.T @ (y - X @ beta)"
   ]
  },
  {
   "cell_type": "code",
   "execution_count": 178,
   "metadata": {},
   "outputs": [
    {
     "name": "stdout",
     "output_type": "stream",
     "text": [
      "363.12812855208125\n",
      "87.27298557619102\n",
      "36.46370998819902\n",
      "19.895147183186314\n",
      "11.987691964145755\n",
      "8.35399559754459\n",
      "3.701235715009708\n",
      "2.3377276835873495\n",
      "1.9910790334238124\n",
      "0.8934007909907962\n",
      "0.5833964544757163\n",
      "0.4884681375872682\n",
      "0.2352943821945301\n",
      "0.15782539655824188\n",
      "0.12180071610014197\n",
      "0.06388404273139896\n",
      "0.05879545332212064\n",
      "0.02658806138362245\n",
      "0.01757982267950459\n",
      "0.01458714184341767\n",
      "0.0072094787315127125\n",
      "0.004876745886226179\n",
      "0.003660584223004862\n",
      "0.0019753485857999064\n",
      "0.0017566797270165383\n",
      "0.0008183572241305832\n",
      "0.0005457197730554001\n",
      "0.00043761491805957526\n",
      "0.0002228206509660239\n",
      "0.00015173561545591134\n",
      "0.00011030726598024979\n",
      "6.12432389319367e-05\n",
      "5.25880459689169e-05\n",
      "2.5238430857500903e-05\n",
      "1.69601364235768e-05\n",
      "1.315294096931655e-05\n",
      "6.895830079312801e-06\n"
     ]
    }
   ],
   "source": [
    "beta = np.zeros(X.shape[1])\n",
    "\n",
    "while True:\n",
    "    del_f = loss_func_deriv(X, beta, y)\n",
    "    print(np.linalg.norm(del_f))\n",
    "    p = -del_f\n",
    "\n",
    "    if np.linalg.norm(del_f) < 1e-5:\n",
    "        break\n",
    "\n",
    "    def find_step_size(alpha=1, c=0.5, tau=0.5):\n",
    "        # Backtracking line search\n",
    "        # https://en.wikipedia.org/wiki/Backtracking_line_search\n",
    "        m = loss_func_deriv(X, beta, y).T @ p\n",
    "        t = -c * m\n",
    "        while loss_func(X @ beta, y) - loss_func(X @ (beta + alpha * p), y) < alpha * t:\n",
    "            alpha = tau * alpha\n",
    "        return alpha\n",
    "\n",
    "    beta = beta + find_step_size() * p"
   ]
  },
  {
   "cell_type": "code",
   "execution_count": 179,
   "metadata": {},
   "outputs": [
    {
     "data": {
      "text/plain": [
       "array([-0.01,  0.  , -0.89,  0.36, -0.02, -0.01,  0.  ,  0.02, -1.03,\n",
       "       -0.01,  0.51,  0.  , -0.01,  0.01, -0.  , -0.01, -0.01,  0.83,\n",
       "       -0.  ,  0.02])"
      ]
     },
     "execution_count": 179,
     "metadata": {},
     "output_type": "execute_result"
    }
   ],
   "source": [
    "beta[1:].round(2)"
   ]
  },
  {
   "cell_type": "code",
   "execution_count": 146,
   "metadata": {},
   "outputs": [
    {
     "data": {
      "text/plain": [
       "array([ 0.  ,  0.  , -0.89,  0.36,  0.  ,  0.  ,  0.  ,  0.  , -1.03,\n",
       "        0.  ,  0.52,  0.  ,  0.  ,  0.  ,  0.  ,  0.  ,  0.  ,  0.82,\n",
       "        0.  ,  0.  ])"
      ]
     },
     "execution_count": 146,
     "metadata": {},
     "output_type": "execute_result"
    }
   ],
   "source": [
    "beta_true.round(2)"
   ]
  },
  {
   "cell_type": "code",
   "execution_count": 180,
   "metadata": {},
   "outputs": [],
   "source": [
    "def prox_op(x, lam):\n",
    "    return np.sign(x) * np.maximum((np.abs(x) - lam), 0)\n",
    "\n",
    "\n",
    "def check_obj_stop(f_old, f_new, eps):\n",
    "    return np.abs(f_new - f_old) < eps * np.abs(f_old)\n",
    "\n",
    "\n",
    "def check_params_stop(params_old, params_new, eps):\n",
    "    return np.linalg.norm(params_new - params_old) < eps * np.linalg.norm(params_old)"
   ]
  },
  {
   "cell_type": "code",
   "execution_count": 181,
   "metadata": {},
   "outputs": [
    {
     "name": "stdout",
     "output_type": "stream",
     "text": [
      "363.12812855208125\n",
      "85.23859031376442\n",
      "38.41457244666897\n",
      "19.284178218852183\n",
      "13.515919323776275\n",
      "10.89686507183256\n",
      "9.823744955507648\n",
      "9.153580933764609\n",
      "8.940330247727411\n",
      "8.95715966262864\n",
      "8.971009892868336\n",
      "8.982869681619233\n",
      "8.988510538352989\n",
      "8.99148772721902\n",
      "8.992899107424954\n",
      "8.993595822645311\n"
     ]
    }
   ],
   "source": [
    "beta = np.zeros(X.shape[1])\n",
    "lam = 0.01\n",
    "eps_params = 1e-5\n",
    "eps_obj = 1e-5\n",
    "\n",
    "while True:\n",
    "    del_f = loss_func_deriv(X, beta, y)\n",
    "    print(np.linalg.norm(del_f))\n",
    "    p = -del_f\n",
    "\n",
    "    def find_step_size(alpha=1, c=0.5, tau=0.5):\n",
    "        # Backtracking line search\n",
    "        # https://en.wikipedia.org/wiki/Backtracking_line_search\n",
    "        m = loss_func_deriv(X, beta, y).T @ p\n",
    "        t = -c * m\n",
    "        while loss_func(X @ beta, y) - loss_func(X @ (beta + alpha * p), y) < alpha * t:\n",
    "            alpha = tau * alpha\n",
    "        return alpha\n",
    "\n",
    "    beta_new = prox_op(beta + find_step_size() * p, lam)\n",
    "    if check_obj_stop(\n",
    "        loss_func(y, X @ beta), loss_func(y, X @ beta_new), eps_obj\n",
    "    ) or check_params_stop(beta, beta_new, eps_params):\n",
    "        break\n",
    "\n",
    "    beta = beta_new"
   ]
  },
  {
   "cell_type": "code",
   "execution_count": 182,
   "metadata": {},
   "outputs": [
    {
     "data": {
      "text/plain": [
       "array([-0.  ,  0.  , -0.87,  0.34, -0.01, -0.  ,  0.  ,  0.01, -1.02,\n",
       "       -0.  ,  0.5 ,  0.  , -0.  ,  0.  , -0.  , -0.  , -0.  ,  0.81,\n",
       "       -0.  ,  0.  ])"
      ]
     },
     "execution_count": 182,
     "metadata": {},
     "output_type": "execute_result"
    }
   ],
   "source": [
    "beta[1:].round(2)"
   ]
  },
  {
   "cell_type": "code",
   "execution_count": 183,
   "metadata": {},
   "outputs": [
    {
     "data": {
      "text/plain": [
       "array([ 0.  ,  0.  , -0.89,  0.36,  0.  ,  0.  ,  0.  ,  0.  , -1.03,\n",
       "        0.  ,  0.52,  0.  ,  0.  ,  0.  ,  0.  ,  0.  ,  0.  ,  0.82,\n",
       "        0.  ,  0.  ])"
      ]
     },
     "execution_count": 183,
     "metadata": {},
     "output_type": "execute_result"
    }
   ],
   "source": [
    "beta_true.round(2)"
   ]
  },
  {
   "cell_type": "code",
   "execution_count": null,
   "metadata": {},
   "outputs": [],
   "source": []
  }
 ],
 "metadata": {
  "kernelspec": {
   "display_name": "venv",
   "language": "python",
   "name": "python3"
  },
  "language_info": {
   "codemirror_mode": {
    "name": "ipython",
    "version": 3
   },
   "file_extension": ".py",
   "mimetype": "text/x-python",
   "name": "python",
   "nbconvert_exporter": "python",
   "pygments_lexer": "ipython3",
   "version": "3.11.9"
  }
 },
 "nbformat": 4,
 "nbformat_minor": 2
}
