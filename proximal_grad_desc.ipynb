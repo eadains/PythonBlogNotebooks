{
 "cells": [
  {
   "cell_type": "code",
   "execution_count": 1,
   "metadata": {},
   "outputs": [],
   "source": [
    "import numpy as np\n",
    "\n",
    "rng = np.random.default_rng()"
   ]
  },
  {
   "cell_type": "code",
   "execution_count": 9,
   "metadata": {},
   "outputs": [],
   "source": [
    "def sample_sparse_linear(n_samples=100, n_features=20, n_nonzero=5, noise_std=0.1):\n",
    "    \"\"\"\n",
    "    Generate data from a sparse linear model with Gaussian noise.\n",
    "\n",
    "    Parameters\n",
    "    ----------\n",
    "    n_samples : int\n",
    "        Number of samples\n",
    "    n_features : int\n",
    "        Number of features\n",
    "    n_nonzero : int\n",
    "        Number of nonzero coefficients\n",
    "    noise_std : float\n",
    "        Standard deviation of Gaussian noise\n",
    "    random_state : int\n",
    "        Random seed\n",
    "\n",
    "    Returns\n",
    "    -------\n",
    "    X : array, shape (n_samples, n_features)\n",
    "        Feature matrix\n",
    "    y : array, shape (n_samples,)\n",
    "        Target vector\n",
    "    beta : array, shape (n_features,)\n",
    "        True coefficients\n",
    "    \"\"\"\n",
    "    # Generate random feature matrix\n",
    "    X = rng.standard_normal((n_samples, n_features))\n",
    "\n",
    "    # Generate sparse coefficients\n",
    "    beta = np.zeros(n_features)\n",
    "    nonzero_idx = rng.choice(n_features, size=n_nonzero, replace=False)\n",
    "    beta[nonzero_idx] = rng.standard_normal(n_nonzero)\n",
    "\n",
    "    # Generate target with noise\n",
    "    y = X @ beta + noise_std * rng.standard_normal(n_samples)\n",
    "\n",
    "    return X, y, beta"
   ]
  },
  {
   "cell_type": "code",
   "execution_count": 221,
   "metadata": {},
   "outputs": [],
   "source": [
    "X, y, beta_true = sample_sparse_linear()\n",
    "# Adding interecept column to X\n",
    "X = np.hstack([np.ones((X.shape[0], 1)), X])"
   ]
  },
  {
   "cell_type": "code",
   "execution_count": 222,
   "metadata": {},
   "outputs": [],
   "source": [
    "def loss_func(y, y_hat):\n",
    "    return np.sum(np.square(y - y_hat))\n",
    "\n",
    "\n",
    "def loss_func_deriv(X, beta, y):\n",
    "    return -2 * X.T @ (y - X @ beta)\n",
    "\n",
    "\n",
    "def check_obj_stop(f_old, f_new, eps):\n",
    "    return np.abs(f_new - f_old) < eps * np.abs(f_old)\n",
    "\n",
    "\n",
    "def check_params_stop(params_old, params_new, eps):\n",
    "    return np.linalg.norm(params_new - params_old) < eps * np.linalg.norm(params_old)"
   ]
  },
  {
   "cell_type": "code",
   "execution_count": 223,
   "metadata": {},
   "outputs": [
    {
     "name": "stdout",
     "output_type": "stream",
     "text": [
      "541.4135539090395\n",
      "279.10667125123746\n",
      "108.55689488879295\n",
      "64.28545479279573\n",
      "51.05068269366922\n",
      "20.785950373463145\n",
      "14.503608617061625\n",
      "13.452627811048428\n",
      "5.8050310858997705\n",
      "5.485389783944708\n",
      "2.464939556538909\n",
      "2.25815797047769\n",
      "1.072198525567442\n",
      "0.9373203509884254\n",
      "0.47205735117954706\n",
      "0.39266460852929\n",
      "0.20943198093366375\n",
      "0.16639721933515805\n",
      "0.09347361608884752\n",
      "0.07158274921983224\n",
      "0.04195342699057493\n",
      "0.03141528324492165\n"
     ]
    }
   ],
   "source": [
    "beta = np.zeros(X.shape[1])\n",
    "eps_params = 1e-5\n",
    "eps_obj = 1e-5\n",
    "\n",
    "while True:\n",
    "    del_f = loss_func_deriv(X, beta, y)\n",
    "    print(np.linalg.norm(del_f))\n",
    "    p = -del_f\n",
    "\n",
    "    if np.linalg.norm(del_f) < 1e-5:\n",
    "        break\n",
    "\n",
    "    def find_step_size(alpha=1, c=0.5, tau=0.5):\n",
    "        # Backtracking line search\n",
    "        # https://en.wikipedia.org/wiki/Backtracking_line_search\n",
    "        m = loss_func_deriv(X, beta, y).T @ p\n",
    "        t = -c * m\n",
    "        while loss_func(X @ beta, y) - loss_func(X @ (beta + alpha * p), y) < alpha * t:\n",
    "            alpha = tau * alpha\n",
    "        return alpha\n",
    "    \n",
    "    beta_new = beta + find_step_size() * p\n",
    "    if check_obj_stop(\n",
    "        loss_func(y, X @ beta), loss_func(y, X @ beta_new), eps_obj\n",
    "    ) or check_params_stop(beta, beta_new, eps_params):\n",
    "        break\n",
    "\n",
    "    beta = beta_new"
   ]
  },
  {
   "cell_type": "code",
   "execution_count": 224,
   "metadata": {},
   "outputs": [
    {
     "data": {
      "text/plain": [
       "array([ 1.2 , -0.87, -0.  ,  0.01,  0.01,  0.  ,  0.  ,  0.02,  0.01,\n",
       "        0.01,  0.01, -0.  ,  1.94,  0.  , -0.01, -0.08, -0.02,  0.02,\n",
       "        0.02,  1.42])"
      ]
     },
     "execution_count": 224,
     "metadata": {},
     "output_type": "execute_result"
    }
   ],
   "source": [
    "beta[1:].round(2)"
   ]
  },
  {
   "cell_type": "code",
   "execution_count": 225,
   "metadata": {},
   "outputs": [
    {
     "data": {
      "text/plain": [
       "array([ 1.19, -0.86,  0.  ,  0.  ,  0.  ,  0.  ,  0.  ,  0.  ,  0.  ,\n",
       "        0.  ,  0.  ,  0.  ,  1.95,  0.  ,  0.  , -0.09,  0.  ,  0.  ,\n",
       "        0.  ,  1.42])"
      ]
     },
     "execution_count": 225,
     "metadata": {},
     "output_type": "execute_result"
    }
   ],
   "source": [
    "beta_true.round(2)"
   ]
  },
  {
   "cell_type": "code",
   "execution_count": 226,
   "metadata": {},
   "outputs": [],
   "source": [
    "def prox_op(x, lam):\n",
    "    return np.sign(x) * np.maximum((np.abs(x) - lam), 0)"
   ]
  },
  {
   "cell_type": "code",
   "execution_count": 227,
   "metadata": {},
   "outputs": [
    {
     "name": "stdout",
     "output_type": "stream",
     "text": [
      "541.4135539090395\n",
      "285.65277450286624\n",
      "109.1312130168254\n",
      "66.14627260064026\n",
      "41.71815139363993\n",
      "21.651352730184286\n",
      "16.579251666347574\n",
      "13.196636407925562\n",
      "10.962235540739448\n",
      "9.456258863557371\n",
      "8.67982452753725\n",
      "8.412241227895677\n",
      "8.31200662609785\n",
      "8.271020673826975\n",
      "8.254444131450096\n",
      "8.246824356397559\n",
      "8.243404538445965\n",
      "8.241776053638095\n"
     ]
    }
   ],
   "source": [
    "beta = np.zeros(X.shape[1])\n",
    "lam = 0.01\n",
    "eps_params = 1e-5\n",
    "eps_obj = 1e-5\n",
    "\n",
    "while True:\n",
    "    del_f = loss_func_deriv(X, beta, y)\n",
    "    print(np.linalg.norm(del_f))\n",
    "    p = -del_f\n",
    "\n",
    "    def find_step_size(alpha=1, c=0.5, tau=0.5):\n",
    "        # Backtracking line search\n",
    "        # https://en.wikipedia.org/wiki/Backtracking_line_search\n",
    "        m = loss_func_deriv(X, beta, y).T @ p\n",
    "        t = -c * m\n",
    "        while loss_func(X @ beta, y) - loss_func(X @ (beta + alpha * p), y) < alpha * t:\n",
    "            alpha = tau * alpha\n",
    "        return alpha\n",
    "\n",
    "    beta_new = prox_op(beta + find_step_size() * p, lam)\n",
    "    if check_obj_stop(\n",
    "        loss_func(y, X @ beta), loss_func(y, X @ beta_new), eps_obj\n",
    "    ) or check_params_stop(beta, beta_new, eps_params):\n",
    "        break\n",
    "\n",
    "    beta = beta_new"
   ]
  },
  {
   "cell_type": "code",
   "execution_count": 228,
   "metadata": {},
   "outputs": [
    {
     "data": {
      "text/plain": [
       "array([ 1.18, -0.84, -0.  , -0.  ,  0.  , -0.  ,  0.  ,  0.  ,  0.  ,\n",
       "        0.  ,  0.  , -0.  ,  1.92,  0.  , -0.  , -0.07, -0.  ,  0.  ,\n",
       "        0.  ,  1.4 ])"
      ]
     },
     "execution_count": 228,
     "metadata": {},
     "output_type": "execute_result"
    }
   ],
   "source": [
    "beta[1:].round(2)"
   ]
  },
  {
   "cell_type": "code",
   "execution_count": 229,
   "metadata": {},
   "outputs": [
    {
     "data": {
      "text/plain": [
       "array([ 1.19, -0.86,  0.  ,  0.  ,  0.  ,  0.  ,  0.  ,  0.  ,  0.  ,\n",
       "        0.  ,  0.  ,  0.  ,  1.95,  0.  ,  0.  , -0.09,  0.  ,  0.  ,\n",
       "        0.  ,  1.42])"
      ]
     },
     "execution_count": 229,
     "metadata": {},
     "output_type": "execute_result"
    }
   ],
   "source": [
    "beta_true.round(2)"
   ]
  },
  {
   "cell_type": "code",
   "execution_count": null,
   "metadata": {},
   "outputs": [],
   "source": []
  }
 ],
 "metadata": {
  "kernelspec": {
   "display_name": "venv",
   "language": "python",
   "name": "python3"
  },
  "language_info": {
   "codemirror_mode": {
    "name": "ipython",
    "version": 3
   },
   "file_extension": ".py",
   "mimetype": "text/x-python",
   "name": "python",
   "nbconvert_exporter": "python",
   "pygments_lexer": "ipython3",
   "version": "3.11.9"
  }
 },
 "nbformat": 4,
 "nbformat_minor": 2
}
