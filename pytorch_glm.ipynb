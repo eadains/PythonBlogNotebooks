{
 "cells": [
  {
   "cell_type": "markdown",
   "metadata": {},
   "source": [
    "# Data Generation"
   ]
  },
  {
   "cell_type": "code",
   "execution_count": 1,
   "metadata": {},
   "outputs": [],
   "source": [
    "import numpy as np\n",
    "\n",
    "rng = np.random.default_rng()"
   ]
  },
  {
   "cell_type": "code",
   "execution_count": 2,
   "metadata": {},
   "outputs": [],
   "source": [
    "def generate_dense_gamma(n, m, intercept=1, k=3):\n",
    "    beta_star = rng.standard_normal(m)\n",
    "    X = rng.standard_normal((n, m))\n",
    "    mu = np.exp(intercept + X @ beta_star)\n",
    "    y = rng.gamma(k, mu / k, n)\n",
    "    return X, y, beta_star\n",
    "\n",
    "\n",
    "def generate_sparse_gamma(n, m, intercept=1, k=3, sparse=0.20):\n",
    "    beta_star = rng.standard_normal(m)\n",
    "    beta_star[rng.integers(0, m, int(sparse * m))] = 0\n",
    "    X = rng.standard_normal((n, m))\n",
    "    mu = np.exp(intercept + X @ beta_star)\n",
    "    y = rng.gamma(k, mu / k, n)\n",
    "    return X, y, beta_star"
   ]
  },
  {
   "cell_type": "code",
   "execution_count": 650,
   "metadata": {},
   "outputs": [],
   "source": [
    "n = 1000\n",
    "m = 10\n",
    "X, y, beta_star = generate_sparse_gamma(n, m)"
   ]
  },
  {
   "cell_type": "markdown",
   "metadata": {},
   "source": [
    "# JAX Optimization"
   ]
  },
  {
   "cell_type": "code",
   "execution_count": 647,
   "metadata": {},
   "outputs": [],
   "source": [
    "import jax.numpy as jnp\n",
    "import jax\n",
    "import optax\n",
    "from sklearn.base import BaseEstimator, RegressorMixin\n",
    "from sklearn.utils.validation import check_is_fitted"
   ]
  },
  {
   "cell_type": "code",
   "execution_count": 658,
   "metadata": {},
   "outputs": [],
   "source": [
    "@jax.jit\n",
    "def gamma_deviance(y_hat, y):\n",
    "    return 2 * (jnp.log(y_hat / y) + y / y_hat - 1)\n",
    "\n",
    "\n",
    "@jax.jit\n",
    "def coef_gamma_deviance(params, X, y):\n",
    "    intercept = params[0]\n",
    "    beta = params[1:]\n",
    "    y_hat = jnp.exp(intercept + X @ beta)\n",
    "    return gamma_deviance(y_hat, y).mean()\n",
    "\n",
    "\n",
    "@jax.jit\n",
    "def lasso_penalty(beta):\n",
    "    return jnp.abs(beta).sum()\n",
    "\n",
    "\n",
    "@jax.jit\n",
    "def ridge_penalty(beta):\n",
    "    return 1 / 2 * jnp.sum(beta**2)\n",
    "\n",
    "\n",
    "@jax.jit\n",
    "def gamma_reg(params, X, y, lam, alpha):\n",
    "    intercept = params[0]\n",
    "    beta = params[1:]\n",
    "    y_hat = jnp.exp(intercept + X @ beta)\n",
    "    return gamma_deviance(y_hat, y).mean() + lam * (\n",
    "        alpha * lasso_penalty(beta) + (1 - alpha) * ridge_penalty(beta)\n",
    "    )\n",
    "\n",
    "\n",
    "class GammaRegressor(RegressorMixin, BaseEstimator):\n",
    "    def __init__(self, lam=0, alpha=0.5) -> None:\n",
    "        self.lam = lam\n",
    "        self.alpha = alpha\n",
    "\n",
    "    def fit(self, X, y):\n",
    "        X, y = self._validate_data(X, y)\n",
    "\n",
    "        X_jax = jnp.asarray(X)\n",
    "        y_jax = jnp.asarray(y)\n",
    "        params = jnp.zeros(X.shape[1] + 1)\n",
    "\n",
    "        def obj(params):\n",
    "            return gamma_reg(params, X_jax, y_jax, self.lam, self.alpha)\n",
    "\n",
    "        solver = optax.lbfgs()\n",
    "        opt_state = solver.init(params)\n",
    "        value_and_grad = optax.value_and_grad_from_state(obj)\n",
    "\n",
    "        old_value = obj(params)\n",
    "        no_prog_steps = 0\n",
    "        while True:\n",
    "            value, grad = value_and_grad(params, state=opt_state)\n",
    "            print(f\"Objective Value: {value}\")\n",
    "\n",
    "            if jnp.abs(grad).sum() < 1e-5:\n",
    "                print(\"Gradient Norm Stop\")\n",
    "                break\n",
    "\n",
    "            updates, opt_state = solver.update(\n",
    "                grad / jnp.linalg.norm(grad),\n",
    "                opt_state,\n",
    "                params,\n",
    "                value=value,\n",
    "                grad=grad,\n",
    "                value_fn=obj,\n",
    "            )\n",
    "            params = optax.apply_updates(params, updates)\n",
    "\n",
    "            new_value = obj(params)\n",
    "            if jnp.abs((new_value - old_value) / old_value) < 1e-3:\n",
    "                no_prog_steps += 1\n",
    "            if no_prog_steps > 5:\n",
    "                print(\"No objective progress stop\")\n",
    "                break\n",
    "            old_value = new_value\n",
    "\n",
    "        self.intercept_ = params[0].item()\n",
    "        self.coef_ = np.asarray(params[1:], dtype=np.float64)\n",
    "\n",
    "    def predict(self, X):\n",
    "        check_is_fitted(self)\n",
    "        return np.exp(self.intercept_ + X @ self.coef_)\n",
    "\n",
    "    def score(self, X, y):\n",
    "        return (\n",
    "            gamma_deviance(jnp.asarray(self.predict(X)), jnp.asarray(y)).mean().item()\n",
    "        )"
   ]
  },
  {
   "cell_type": "code",
   "execution_count": 659,
   "metadata": {},
   "outputs": [
    {
     "name": "stdout",
     "output_type": "stream",
     "text": [
      "Objective Value: 39.902191162109375\n",
      "Objective Value: 4.674535274505615\n",
      "Objective Value: 1.949567198753357\n",
      "Objective Value: 1.6746418476104736\n",
      "Objective Value: 1.6747959852218628\n",
      "Objective Value: 1.5127439498901367\n",
      "Objective Value: 1.2911567687988281\n",
      "Objective Value: 1.1280925273895264\n",
      "Objective Value: 1.010317325592041\n",
      "Objective Value: 0.9427123069763184\n",
      "Objective Value: 0.8438864946365356\n",
      "Objective Value: 0.7746723294258118\n",
      "Objective Value: 0.7185803055763245\n",
      "Objective Value: 0.6727139949798584\n",
      "Objective Value: 0.6354771852493286\n",
      "Objective Value: 0.5853992104530334\n",
      "Objective Value: 0.5489557385444641\n",
      "Objective Value: 0.49130696058273315\n",
      "Objective Value: 0.4322171211242676\n",
      "Objective Value: 0.4030422568321228\n",
      "Objective Value: 0.3894992172718048\n",
      "Objective Value: 0.38036978244781494\n",
      "Objective Value: 0.3748360276222229\n",
      "Objective Value: 0.37274113297462463\n",
      "Objective Value: 0.37199628353118896\n",
      "Objective Value: 0.3716709017753601\n",
      "Objective Value: 0.37158092856407166\n",
      "Objective Value: 0.37147805094718933\n",
      "Objective Value: 0.37141427397727966\n",
      "No objective progress stop\n"
     ]
    }
   ],
   "source": [
    "model = GammaRegressor(lam=0)\n",
    "model.fit(X, y)"
   ]
  },
  {
   "cell_type": "code",
   "execution_count": 660,
   "metadata": {},
   "outputs": [
    {
     "data": {
      "text/plain": [
       "0.9785037040710449"
      ]
     },
     "execution_count": 660,
     "metadata": {},
     "output_type": "execute_result"
    }
   ],
   "source": [
    "model.intercept_"
   ]
  },
  {
   "cell_type": "code",
   "execution_count": 663,
   "metadata": {},
   "outputs": [
    {
     "data": {
      "text/plain": [
       "array([-1.14, -0.  , -0.97, -0.65, -0.34,  0.02,  0.18, -0.29,  0.94,\n",
       "        0.81])"
      ]
     },
     "execution_count": 663,
     "metadata": {},
     "output_type": "execute_result"
    }
   ],
   "source": [
    "model.coef_.round(2)"
   ]
  },
  {
   "cell_type": "code",
   "execution_count": 664,
   "metadata": {},
   "outputs": [
    {
     "data": {
      "text/plain": [
       "array([-1.12,  0.  , -0.99, -0.67, -0.31,  0.  ,  0.19, -0.3 ,  0.94,\n",
       "        0.82])"
      ]
     },
     "execution_count": 664,
     "metadata": {},
     "output_type": "execute_result"
    }
   ],
   "source": [
    "beta_star.round(2)"
   ]
  },
  {
   "cell_type": "code",
   "execution_count": null,
   "metadata": {},
   "outputs": [],
   "source": []
  }
 ],
 "metadata": {
  "kernelspec": {
   "display_name": "venv",
   "language": "python",
   "name": "python3"
  },
  "language_info": {
   "codemirror_mode": {
    "name": "ipython",
    "version": 3
   },
   "file_extension": ".py",
   "mimetype": "text/x-python",
   "name": "python",
   "nbconvert_exporter": "python",
   "pygments_lexer": "ipython3",
   "version": "3.11.3"
  }
 },
 "nbformat": 4,
 "nbformat_minor": 2
}
