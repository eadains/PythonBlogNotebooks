{
 "cells": [
  {
   "cell_type": "code",
   "execution_count": 39,
   "id": "e1a950ec-dbee-4ae8-a016-0d3f4d0ea6b1",
   "metadata": {
    "tags": []
   },
   "outputs": [],
   "source": [
    "import polars as pl\n",
    "import matplotlib.pyplot as plt"
   ]
  },
  {
   "cell_type": "code",
   "execution_count": 37,
   "id": "65d40a6e-f8fd-4ab3-8f82-92b4e68861ba",
   "metadata": {
    "tags": []
   },
   "outputs": [],
   "source": [
    "data = pl.read_csv(\"./data/insurance/comauto_pos.csv\")\n",
    "data = data.filter(pl.col(\"GRCODE\") == 266)\n",
    "pivot = data.pivot(index=\"AccidentYear\", columns=\"DevelopmentLag\", values=\"CumPaidLoss_C\", aggregate_function=\"first\")"
   ]
  },
  {
   "cell_type": "code",
   "execution_count": 57,
   "id": "dabbc2a0-5d0c-495e-8893-1a7bc8f81a83",
   "metadata": {
    "tags": []
   },
   "outputs": [
    {
     "data": {
      "text/html": [
       "<div><style>\n",
       ".dataframe > thead > tr > th,\n",
       ".dataframe > tbody > tr > td {\n",
       "  text-align: right;\n",
       "}\n",
       "</style>\n",
       "<small>shape: (10, 11)</small><table border=\"1\" class=\"dataframe\"><thead><tr><th>AccidentYear</th><th>1</th><th>2</th><th>3</th><th>4</th><th>5</th><th>6</th><th>7</th><th>8</th><th>9</th><th>10</th></tr><tr><td>i64</td><td>i64</td><td>i64</td><td>i64</td><td>i64</td><td>i64</td><td>i64</td><td>i64</td><td>i64</td><td>i64</td><td>i64</td></tr></thead><tbody><tr><td>1988</td><td>0</td><td>0</td><td>0</td><td>0</td><td>0</td><td>0</td><td>0</td><td>0</td><td>0</td><td>0</td></tr><tr><td>1989</td><td>6</td><td>20</td><td>21</td><td>23</td><td>24</td><td>24</td><td>24</td><td>24</td><td>24</td><td>24</td></tr><tr><td>1990</td><td>52</td><td>95</td><td>105</td><td>117</td><td>128</td><td>128</td><td>128</td><td>128</td><td>128</td><td>128</td></tr><tr><td>1991</td><td>127</td><td>258</td><td>301</td><td>332</td><td>372</td><td>376</td><td>377</td><td>377</td><td>377</td><td>376</td></tr><tr><td>1992</td><td>120</td><td>225</td><td>277</td><td>339</td><td>361</td><td>370</td><td>372</td><td>379</td><td>386</td><td>386</td></tr><tr><td>1993</td><td>427</td><td>1005</td><td>1111</td><td>1263</td><td>1306</td><td>1346</td><td>1361</td><td>1376</td><td>1416</td><td>1416</td></tr><tr><td>1994</td><td>584</td><td>1511</td><td>1716</td><td>1817</td><td>1909</td><td>1933</td><td>1958</td><td>1958</td><td>1958</td><td>1958</td></tr><tr><td>1995</td><td>369</td><td>741</td><td>931</td><td>941</td><td>1096</td><td>1122</td><td>1099</td><td>1103</td><td>1103</td><td>1103</td></tr><tr><td>1996</td><td>294</td><td>595</td><td>657</td><td>704</td><td>720</td><td>722</td><td>721</td><td>721</td><td>721</td><td>721</td></tr><tr><td>1997</td><td>312</td><td>517</td><td>599</td><td>632</td><td>694</td><td>708</td><td>714</td><td>714</td><td>714</td><td>714</td></tr></tbody></table></div>"
      ],
      "text/plain": [
       "shape: (10, 11)\n",
       "┌──────────────┬─────┬──────┬──────┬───┬──────┬──────┬──────┬──────┐\n",
       "│ AccidentYear ┆ 1   ┆ 2    ┆ 3    ┆ … ┆ 7    ┆ 8    ┆ 9    ┆ 10   │\n",
       "│ ---          ┆ --- ┆ ---  ┆ ---  ┆   ┆ ---  ┆ ---  ┆ ---  ┆ ---  │\n",
       "│ i64          ┆ i64 ┆ i64  ┆ i64  ┆   ┆ i64  ┆ i64  ┆ i64  ┆ i64  │\n",
       "╞══════════════╪═════╪══════╪══════╪═══╪══════╪══════╪══════╪══════╡\n",
       "│ 1988         ┆ 0   ┆ 0    ┆ 0    ┆ … ┆ 0    ┆ 0    ┆ 0    ┆ 0    │\n",
       "│ 1989         ┆ 6   ┆ 20   ┆ 21   ┆ … ┆ 24   ┆ 24   ┆ 24   ┆ 24   │\n",
       "│ 1990         ┆ 52  ┆ 95   ┆ 105  ┆ … ┆ 128  ┆ 128  ┆ 128  ┆ 128  │\n",
       "│ 1991         ┆ 127 ┆ 258  ┆ 301  ┆ … ┆ 377  ┆ 377  ┆ 377  ┆ 376  │\n",
       "│ …            ┆ …   ┆ …    ┆ …    ┆ … ┆ …    ┆ …    ┆ …    ┆ …    │\n",
       "│ 1994         ┆ 584 ┆ 1511 ┆ 1716 ┆ … ┆ 1958 ┆ 1958 ┆ 1958 ┆ 1958 │\n",
       "│ 1995         ┆ 369 ┆ 741  ┆ 931  ┆ … ┆ 1099 ┆ 1103 ┆ 1103 ┆ 1103 │\n",
       "│ 1996         ┆ 294 ┆ 595  ┆ 657  ┆ … ┆ 721  ┆ 721  ┆ 721  ┆ 721  │\n",
       "│ 1997         ┆ 312 ┆ 517  ┆ 599  ┆ … ┆ 714  ┆ 714  ┆ 714  ┆ 714  │\n",
       "└──────────────┴─────┴──────┴──────┴───┴──────┴──────┴──────┴──────┘"
      ]
     },
     "execution_count": 57,
     "metadata": {},
     "output_type": "execute_result"
    }
   ],
   "source": [
    "pivot"
   ]
  },
  {
   "cell_type": "code",
   "execution_count": null,
   "id": "32b7536f-daff-4363-b5da-f03d2a9f7510",
   "metadata": {},
   "outputs": [],
   "source": []
  }
 ],
 "metadata": {
  "kernelspec": {
   "display_name": "Python 3 (ipykernel)",
   "language": "python",
   "name": "python3"
  },
  "language_info": {
   "codemirror_mode": {
    "name": "ipython",
    "version": 3
   },
   "file_extension": ".py",
   "mimetype": "text/x-python",
   "name": "python",
   "nbconvert_exporter": "python",
   "pygments_lexer": "ipython3",
   "version": "3.11.3"
  }
 },
 "nbformat": 4,
 "nbformat_minor": 5
}
