{
 "cells": [
  {
   "cell_type": "code",
   "execution_count": 7,
   "id": "103a334c-85ab-421a-a021-23560aff2d6e",
   "metadata": {
    "tags": []
   },
   "outputs": [],
   "source": [
    "from sympy import *\n",
    "init_printing()"
   ]
  },
  {
   "cell_type": "code",
   "execution_count": 11,
   "id": "fb983e1d-04b3-4507-83bb-6628af8d3850",
   "metadata": {
    "tags": []
   },
   "outputs": [],
   "source": [
    "s, y, t, x, alpha, sigma = symbols(\"s, y, t, x, alpha, sigma\")"
   ]
  },
  {
   "cell_type": "code",
   "execution_count": 18,
   "id": "9a3a4fdd-c90a-4d6e-88bb-9b5ee4e0d44d",
   "metadata": {
    "tags": []
   },
   "outputs": [],
   "source": [
    "expr = 1/sqrt(2 * pi * sigma**2 * (t-s)) * exp(-(x-(y + alpha * (t - s)))**2 / (2 * sigma**2 * (t - s)))"
   ]
  },
  {
   "cell_type": "code",
   "execution_count": 41,
   "id": "3073e55b-d19d-4e4c-8d56-4b371fa6f7d4",
   "metadata": {
    "tags": []
   },
   "outputs": [
    {
     "data": {
      "image/png": "[encoded data removed]",
      "text/latex": [
       "$\\displaystyle \\frac{\\sqrt{2} e^{- \\frac{\\left(- \\alpha \\left(- s + t\\right) + x - y\\right)^{2}}{2 \\sigma^{2} \\left(- s + t\\right)}}}{2 \\sqrt{\\pi} \\sqrt{\\sigma^{2} \\left(- s + t\\right)}}$"
      ],
      "text/plain": [
       "                          2 \n",
       "    -(-α⋅(-s + t) + x - y)  \n",
       "    ────────────────────────\n",
       "            2               \n",
       "         2⋅σ ⋅(-s + t)      \n",
       "√2⋅ℯ                        \n",
       "────────────────────────────\n",
       "           _____________    \n",
       "          ╱  2              \n",
       "   2⋅√π⋅╲╱  σ ⋅(-s + t)     "
      ]
     },
     "execution_count": 41,
     "metadata": {},
     "output_type": "execute_result"
    }
   ],
   "source": [
    "expr"
   ]
  },
  {
   "cell_type": "code",
   "execution_count": 22,
   "id": "613baa27-53bd-4bc9-b5e6-c5bdca914ad8",
   "metadata": {
    "tags": []
   },
   "outputs": [],
   "source": [
    "t_partial = diff(expr, t)\n",
    "x_partial = diff(expr, x)\n",
    "x_partial2 = diff(x_partial, x)"
   ]
  },
  {
   "cell_type": "code",
   "execution_count": 35,
   "id": "6eccb06c-5de0-4d57-8ba7-213be7516828",
   "metadata": {
    "tags": []
   },
   "outputs": [],
   "source": [
    "lhs = t_partial\n",
    "rhs = -alpha * x_partial + 1/2 * sigma**2 * x_partial2"
   ]
  },
  {
   "cell_type": "code",
   "execution_count": 42,
   "id": "1c61b6ce-1ec8-4cb3-a950-56a4a2183d55",
   "metadata": {
    "tags": []
   },
   "outputs": [
    {
     "data": {
      "image/png": "[encoded data removed]",
      "text/latex": [
       "$\\displaystyle \\frac{\\sqrt{2} \\left(\\frac{\\alpha \\left(- \\alpha \\left(- s + t\\right) + x - y\\right)}{\\sigma^{2} \\left(- s + t\\right)} + \\frac{\\left(- \\alpha \\left(- s + t\\right) + x - y\\right)^{2}}{2 \\sigma^{2} \\left(- s + t\\right)^{2}}\\right) e^{- \\frac{\\left(- \\alpha \\left(- s + t\\right) + x - y\\right)^{2}}{2 \\sigma^{2} \\left(- s + t\\right)}}}{2 \\sqrt{\\pi} \\sqrt{\\sigma^{2} \\left(- s + t\\right)}} - \\frac{\\sqrt{2} e^{- \\frac{\\left(- \\alpha \\left(- s + t\\right) + x - y\\right)^{2}}{2 \\sigma^{2} \\left(- s + t\\right)}}}{4 \\sqrt{\\pi} \\sqrt{\\sigma^{2} \\left(- s + t\\right)} \\left(- s + t\\right)}$"
      ],
      "text/plain": [
       "                                                                             2                                  \n",
       "                                                       -(-α⋅(-s + t) + x - y)                                   \n",
       "                                                       ────────────────────────                              2  \n",
       "   ⎛                                               2⎞          2                       -(-α⋅(-s + t) + x - y)   \n",
       "   ⎜α⋅(-α⋅(-s + t) + x - y)   (-α⋅(-s + t) + x - y) ⎟       2⋅σ ⋅(-s + t)              ──────────────────────── \n",
       "√2⋅⎜─────────────────────── + ──────────────────────⎟⋅ℯ                                        2                \n",
       "   ⎜       2                         2         2    ⎟                                       2⋅σ ⋅(-s + t)       \n",
       "   ⎝      σ ⋅(-s + t)             2⋅σ ⋅(-s + t)     ⎠                              √2⋅ℯ                         \n",
       "─────────────────────────────────────────────────────────────────────────────── - ──────────────────────────────\n",
       "                                     _____________                                        _____________         \n",
       "                                    ╱  2                                                 ╱  2                   \n",
       "                             2⋅√π⋅╲╱  σ ⋅(-s + t)                                 4⋅√π⋅╲╱  σ ⋅(-s + t) ⋅(-s + t)"
      ]
     },
     "execution_count": 42,
     "metadata": {},
     "output_type": "execute_result"
    }
   ],
   "source": [
    "lhs"
   ]
  },
  {
   "cell_type": "code",
   "execution_count": 47,
   "id": "5b27b3c7-5e44-423c-9b88-765600aa9ba0",
   "metadata": {
    "tags": []
   },
   "outputs": [
    {
     "data": {
      "image/png": "[encoded data removed]",
      "text/latex": [
       "$\\displaystyle \\frac{\\sqrt{2} \\alpha \\left(- 2 \\alpha \\left(- s + t\\right) + 2 x - 2 y\\right) e^{- \\frac{\\left(- \\alpha \\left(- s + t\\right) + x - y\\right)^{2}}{2 \\sigma^{2} \\left(- s + t\\right)}}}{4 \\sqrt{\\pi} \\sigma^{2} \\sqrt{\\sigma^{2} \\left(- s + t\\right)} \\left(- s + t\\right)} + 0.5 \\sigma^{2} \\left(- \\frac{\\sqrt{2} e^{- \\frac{\\left(- \\alpha \\left(- s + t\\right) + x - y\\right)^{2}}{2 \\sigma^{2} \\left(- s + t\\right)}}}{2 \\sqrt{\\pi} \\sigma^{2} \\sqrt{\\sigma^{2} \\left(- s + t\\right)} \\left(- s + t\\right)} + \\frac{\\sqrt{2} \\left(- 2 \\alpha \\left(- s + t\\right) + 2 x - 2 y\\right)^{2} e^{- \\frac{\\left(- \\alpha \\left(- s + t\\right) + x - y\\right)^{2}}{2 \\sigma^{2} \\left(- s + t\\right)}}}{8 \\sqrt{\\pi} \\sigma^{4} \\sqrt{\\sigma^{2} \\left(- s + t\\right)} \\left(- s + t\\right)^{2}}\\right)$"
      ],
      "text/plain": [
       "                                                        2           ⎛                               2                 \n",
       "                                  -(-α⋅(-s + t) + x - y)            ⎜         -(-α⋅(-s + t) + x - y)                  \n",
       "                                  ────────────────────────          ⎜         ────────────────────────                \n",
       "                                          2                         ⎜                 2                               \n",
       "                                       2⋅σ ⋅(-s + t)                ⎜              2⋅σ ⋅(-s + t)                      \n",
       "√2⋅α⋅(-2⋅α⋅(-s + t) + 2⋅x - 2⋅y)⋅ℯ                                2 ⎜     √2⋅ℯ                             √2⋅(-2⋅α⋅(-\n",
       "────────────────────────────────────────────────────────── + 0.5⋅σ ⋅⎜- ───────────────────────────────── + ───────────\n",
       "                       _____________                                ⎜             _____________                       \n",
       "                  2   ╱  2                                          ⎜        2   ╱  2                                 \n",
       "            4⋅√π⋅σ ⋅╲╱  σ ⋅(-s + t) ⋅(-s + t)                       ⎝  2⋅√π⋅σ ⋅╲╱  σ ⋅(-s + t) ⋅(-s + t)              \n",
       "\n",
       "                                            2 ⎞\n",
       "                      -(-α⋅(-s + t) + x - y)  ⎟\n",
       "                      ────────────────────────⎟\n",
       "                              2               ⎟\n",
       "                   2       2⋅σ ⋅(-s + t)      ⎟\n",
       "s + t) + 2⋅x - 2⋅y) ⋅ℯ                        ⎟\n",
       "──────────────────────────────────────────────⎟\n",
       "            _____________                     ⎟\n",
       "       4   ╱  2                   2           ⎟\n",
       " 8⋅√π⋅σ ⋅╲╱  σ ⋅(-s + t) ⋅(-s + t)            ⎠"
      ]
     },
     "execution_count": 47,
     "metadata": {},
     "output_type": "execute_result"
    }
   ],
   "source": [
    "rhs"
   ]
  },
  {
   "cell_type": "code",
   "execution_count": 48,
   "id": "f6570281-4be5-48e3-aa1f-a0d7c57bb7b2",
   "metadata": {
    "tags": []
   },
   "outputs": [
    {
     "data": {
      "image/png": "[encoded data removed]",
      "text/latex": [
       "$\\displaystyle 0$"
      ],
      "text/plain": [
       "0"
      ]
     },
     "execution_count": 48,
     "metadata": {},
     "output_type": "execute_result"
    }
   ],
   "source": [
    "simplify(lhs - rhs)"
   ]
  },
  {
   "cell_type": "code",
   "execution_count": null,
   "id": "6a1c0162-d061-44e6-be16-170f95687f1a",
   "metadata": {},
   "outputs": [],
   "source": []
  }
 ],
 "metadata": {
  "kernelspec": {
   "display_name": "Python 3 (ipykernel)",
   "language": "python",
   "name": "python3"
  },
  "language_info": {
   "codemirror_mode": {
    "name": "ipython",
    "version": 3
   },
   "file_extension": ".py",
   "mimetype": "text/x-python",
   "name": "python",
   "nbconvert_exporter": "python",
   "pygments_lexer": "ipython3",
   "version": "3.10.6"
  }
 },
 "nbformat": 4,
 "nbformat_minor": 5
}
